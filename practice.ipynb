{
 "cells": [
  {
   "cell_type": "markdown",
   "id": "88ad18eb",
   "metadata": {},
   "source": [
    "# Sample for testing the file"
   ]
  },
  {
   "cell_type": "code",
   "execution_count": 1,
   "id": "ee16bcf5",
   "metadata": {},
   "outputs": [
    {
     "name": "stdout",
     "output_type": "stream",
     "text": [
      "ruhi\n"
     ]
    }
   ],
   "source": [
    "print('ruhi')"
   ]
  },
  {
   "cell_type": "markdown",
   "id": "26153468",
   "metadata": {},
   "source": [
    "# Numpy Example"
   ]
  },
  {
   "cell_type": "code",
   "execution_count": 3,
   "id": "17c90ec2",
   "metadata": {},
   "outputs": [],
   "source": [
    "import numpy as np"
   ]
  },
  {
   "cell_type": "code",
   "execution_count": 4,
   "id": "f6403379",
   "metadata": {},
   "outputs": [
    {
     "data": {
      "text/plain": [
       "array([[1, 2, 3],\n",
       "       [3, 4, 5],\n",
       "       [6, 7, 8]])"
      ]
     },
     "execution_count": 4,
     "metadata": {},
     "output_type": "execute_result"
    }
   ],
   "source": [
    "my_list = [[1,2,3],[3,4,5,],[6,7,8]]\n",
    "np.array(my_list)"
   ]
  },
  {
   "cell_type": "markdown",
   "id": "89671549",
   "metadata": {},
   "source": [
    " # Pandas Example "
   ]
  },
  {
   "cell_type": "code",
   "execution_count": 1,
   "id": "868f419a",
   "metadata": {},
   "outputs": [
    {
     "name": "stdout",
     "output_type": "stream",
     "text": [
      "--- Simple DataFrame ---\n",
      "      Name  Age      City\n",
      "0    Alice   25  New York\n",
      "1      Bob   30    London\n",
      "2  Charlie   22     Paris\n",
      "3    David   35     Tokyo\n",
      "\n",
      "--- DataFrame Info ---\n",
      "<class 'pandas.core.frame.DataFrame'>\n",
      "RangeIndex: 4 entries, 0 to 3\n",
      "Data columns (total 3 columns):\n",
      " #   Column  Non-Null Count  Dtype \n",
      "---  ------  --------------  ----- \n",
      " 0   Name    4 non-null      object\n",
      " 1   Age     4 non-null      int64 \n",
      " 2   City    4 non-null      object\n",
      "dtypes: int64(1), object(2)\n",
      "memory usage: 228.0+ bytes\n",
      "\n",
      "--- DataFrame Description ---\n",
      "             Age\n",
      "count   4.000000\n",
      "mean   28.000000\n",
      "std     5.715476\n",
      "min    22.000000\n",
      "25%    24.250000\n",
      "50%    27.500000\n",
      "75%    31.250000\n",
      "max    35.000000\n"
     ]
    }
   ],
   "source": [
    "import pandas as pd\n",
    "\n",
    "# Data as a dictionary where keys are column names and values are lists of data\n",
    "data = {\n",
    "    'Name': ['Alice', 'Bob', 'Charlie', 'David'],\n",
    "    'Age': [25, 30, 22, 35],\n",
    "    'City': ['New York', 'London', 'Paris', 'Tokyo']\n",
    "}\n",
    "\n",
    "# Create the DataFrame\n",
    "df_simple = pd.DataFrame(data)\n",
    "\n",
    "print(\"--- Simple DataFrame ---\")\n",
    "print(df_simple)\n",
    "print(\"\\n--- DataFrame Info ---\")\n",
    "df_simple.info()\n",
    "print(\"\\n--- DataFrame Description ---\")\n",
    "print(df_simple.describe())"
   ]
  },
  {
   "cell_type": "code",
   "execution_count": null,
   "id": "595f2119",
   "metadata": {},
   "outputs": [],
   "source": []
  }
 ],
 "metadata": {
  "kernelspec": {
   "display_name": "base",
   "language": "python",
   "name": "python3"
  },
  "language_info": {
   "codemirror_mode": {
    "name": "ipython",
    "version": 3
   },
   "file_extension": ".py",
   "mimetype": "text/x-python",
   "name": "python",
   "nbconvert_exporter": "python",
   "pygments_lexer": "ipython3",
   "version": "3.11.7"
  }
 },
 "nbformat": 4,
 "nbformat_minor": 5
}
