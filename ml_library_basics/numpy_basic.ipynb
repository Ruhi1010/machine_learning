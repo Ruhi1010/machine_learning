{
 "cells": [
  {
   "cell_type": "markdown",
   "id": "ad6f39a3",
   "metadata": {},
   "source": [
    "### Numpy - Numerical Python\n",
    "\n",
    "### Advantages of Numpy Array:\n",
    "1. Allows several Mathematical Operations \n",
    "2. Faster operations"
   ]
  },
  {
   "cell_type": "code",
   "execution_count": 1,
   "id": "0e2217f9",
   "metadata": {},
   "outputs": [],
   "source": [
    "import numpy as np"
   ]
  },
  {
   "cell_type": "markdown",
   "id": "0213f3cc",
   "metadata": {},
   "source": [
    "List vs Numpy - Time taken "
   ]
  },
  {
   "cell_type": "code",
   "execution_count": 2,
   "id": "dbc47028",
   "metadata": {},
   "outputs": [],
   "source": [
    "from time import process_time"
   ]
  },
  {
   "cell_type": "markdown",
   "id": "87d7d83d",
   "metadata": {},
   "source": [
    "Time taken by a list"
   ]
  },
  {
   "cell_type": "code",
   "execution_count": 3,
   "id": "b35c1fa3",
   "metadata": {},
   "outputs": [
    {
     "name": "stdout",
     "output_type": "stream",
     "text": [
      "Time taken by a list: 0.0000000000 seconds\n"
     ]
    }
   ],
   "source": [
    "python_list = [i for i in range(10000)]\n",
    "\n",
    "start_time = process_time()\n",
    "\n",
    "python_list = [i+5 for i in python_list]\n",
    "\n",
    "end_time = process_time()\n",
    "\n",
    "print(f\"Time taken by a list: {end_time - start_time:.10f} seconds\")"
   ]
  },
  {
   "cell_type": "code",
   "execution_count": 4,
   "id": "e6d6b473",
   "metadata": {},
   "outputs": [
    {
     "name": "stdout",
     "output_type": "stream",
     "text": [
      "Time taken by a numpy array: 0.0000000000 seconds\n"
     ]
    }
   ],
   "source": [
    "np_array = np.arange(10000)\n",
    "\n",
    "start_time = process_time()\n",
    "\n",
    "np_array = np_array + 5\n",
    "\n",
    "end_time = process_time()\n",
    "\n",
    "print(f\"Time taken by a numpy array: {end_time - start_time:.10f} seconds\")"
   ]
  },
  {
   "cell_type": "markdown",
   "id": "017c5f8c",
   "metadata": {},
   "source": [
    "Numpy Arrays"
   ]
  },
  {
   "cell_type": "code",
   "execution_count": 5,
   "id": "1a2e4f3a",
   "metadata": {},
   "outputs": [
    {
     "name": "stdout",
     "output_type": "stream",
     "text": [
      "List: [1, 2, 3, 4, 5]\n"
     ]
    },
    {
     "data": {
      "text/plain": [
       "list"
      ]
     },
     "execution_count": 5,
     "metadata": {},
     "output_type": "execute_result"
    }
   ],
   "source": [
    "# list\n",
    "list1 = [1, 2, 3, 4, 5]\n",
    "print(\"List:\", list1)\n",
    "type(list1)"
   ]
  },
  {
   "cell_type": "code",
   "execution_count": 6,
   "id": "de6fb6dc",
   "metadata": {},
   "outputs": [
    {
     "name": "stdout",
     "output_type": "stream",
     "text": [
      "Numpy Array: [1 2 3 4 5]\n"
     ]
    },
    {
     "data": {
      "text/plain": [
       "numpy.ndarray"
      ]
     },
     "execution_count": 6,
     "metadata": {},
     "output_type": "execute_result"
    }
   ],
   "source": [
    "np_array = np.array(list1)\n",
    "print(\"Numpy Array:\", np_array)\n",
    "type(np_array)"
   ]
  },
  {
   "cell_type": "code",
   "execution_count": 7,
   "id": "362e3d9c",
   "metadata": {},
   "outputs": [
    {
     "name": "stdout",
     "output_type": "stream",
     "text": [
      "1D Numpy Array: [1 2 3 4 5]\n"
     ]
    }
   ],
   "source": [
    "# creating a 1D numpy array\n",
    "a = np.array([1, 2, 3, 4, 5])\n",
    "print(\"1D Numpy Array:\", a)"
   ]
  },
  {
   "cell_type": "code",
   "execution_count": 8,
   "id": "568ccd5b",
   "metadata": {},
   "outputs": [
    {
     "data": {
      "text/plain": [
       "(5,)"
      ]
     },
     "execution_count": 8,
     "metadata": {},
     "output_type": "execute_result"
    }
   ],
   "source": [
    "a.shape"
   ]
  },
  {
   "cell_type": "code",
   "execution_count": 9,
   "id": "4805d0ca",
   "metadata": {},
   "outputs": [
    {
     "name": "stdout",
     "output_type": "stream",
     "text": [
      "2D Numpy Array:\n",
      " [[1 2 3]\n",
      " [4 5 6]]\n"
     ]
    }
   ],
   "source": [
    "b = np.array([(1, 2, 3), (4, 5, 6)])\n",
    "print(\"2D Numpy Array:\\n\", b)"
   ]
  },
  {
   "cell_type": "code",
   "execution_count": 10,
   "id": "4bb15676",
   "metadata": {},
   "outputs": [
    {
     "data": {
      "text/plain": [
       "(2, 3)"
      ]
     },
     "execution_count": 10,
     "metadata": {},
     "output_type": "execute_result"
    }
   ],
   "source": [
    "b.shape"
   ]
  },
  {
   "cell_type": "code",
   "execution_count": 11,
   "id": "987a7030",
   "metadata": {},
   "outputs": [
    {
     "name": "stdout",
     "output_type": "stream",
     "text": [
      "2D Numpy Array with float type:\n",
      " [[1. 2. 3.]\n",
      " [4. 5. 6.]]\n"
     ]
    }
   ],
   "source": [
    "c = np.array([(1, 2, 3), (4, 5, 6)], dtype=float)\n",
    "print(\"2D Numpy Array with float type:\\n\", c)"
   ]
  },
  {
   "cell_type": "markdown",
   "id": "969aedab",
   "metadata": {},
   "source": [
    "Initial placeholders in numpy array"
   ]
  },
  {
   "cell_type": "code",
   "execution_count": 12,
   "id": "b59ce884",
   "metadata": {},
   "outputs": [
    {
     "data": {
      "text/plain": [
       "array([[0., 0., 0., 0., 0.],\n",
       "       [0., 0., 0., 0., 0.],\n",
       "       [0., 0., 0., 0., 0.],\n",
       "       [0., 0., 0., 0., 0.],\n",
       "       [0., 0., 0., 0., 0.]])"
      ]
     },
     "execution_count": 12,
     "metadata": {},
     "output_type": "execute_result"
    }
   ],
   "source": [
    "# create a numpy array of Zeros\n",
    "x = np.zeros((5,5))\n",
    "x"
   ]
  },
  {
   "cell_type": "code",
   "execution_count": 13,
   "id": "faec414c",
   "metadata": {},
   "outputs": [
    {
     "data": {
      "text/plain": [
       "array([[1., 1., 1., 1., 1.],\n",
       "       [1., 1., 1., 1., 1.],\n",
       "       [1., 1., 1., 1., 1.],\n",
       "       [1., 1., 1., 1., 1.],\n",
       "       [1., 1., 1., 1., 1.]])"
      ]
     },
     "execution_count": 13,
     "metadata": {},
     "output_type": "execute_result"
    }
   ],
   "source": [
    "# create a numpy array of Ones\n",
    "y = np.ones((5,5))\n",
    "y"
   ]
  },
  {
   "cell_type": "code",
   "execution_count": 14,
   "id": "2b6d073f",
   "metadata": {},
   "outputs": [
    {
     "data": {
      "text/plain": [
       "array([[3, 3, 3, 3, 3],\n",
       "       [3, 3, 3, 3, 3],\n",
       "       [3, 3, 3, 3, 3],\n",
       "       [3, 3, 3, 3, 3],\n",
       "       [3, 3, 3, 3, 3]])"
      ]
     },
     "execution_count": 14,
     "metadata": {},
     "output_type": "execute_result"
    }
   ],
   "source": [
    "# array of a particular value\n",
    "z = np.full((5,5),3)\n",
    "z"
   ]
  },
  {
   "cell_type": "code",
   "execution_count": 15,
   "id": "e2e6cce8",
   "metadata": {},
   "outputs": [
    {
     "data": {
      "text/plain": [
       "array([[1., 0., 0., 0., 0.],\n",
       "       [0., 1., 0., 0., 0.],\n",
       "       [0., 0., 1., 0., 0.],\n",
       "       [0., 0., 0., 1., 0.],\n",
       "       [0., 0., 0., 0., 1.]])"
      ]
     },
     "execution_count": 15,
     "metadata": {},
     "output_type": "execute_result"
    }
   ],
   "source": [
    "# create an identity matrix\n",
    "identity_matrix = np.eye(5)\n",
    "identity_matrix"
   ]
  },
  {
   "cell_type": "code",
   "execution_count": 16,
   "id": "405d04e0",
   "metadata": {},
   "outputs": [
    {
     "name": "stdout",
     "output_type": "stream",
     "text": [
      "Random Numpy Array:\n",
      " [[0.51029992 0.90509347 0.24822344 0.57455318 0.34584477]\n",
      " [0.72671008 0.22838674 0.65691689 0.54135307 0.01580754]\n",
      " [0.74216871 0.48372037 0.31472737 0.63519704 0.6352534 ]\n",
      " [0.61499997 0.10888223 0.24469105 0.38776971 0.41559359]]\n"
     ]
    }
   ],
   "source": [
    "# create a numpy array with random values\n",
    "random_array = np.random.random((4, 5))\n",
    "print(\"Random Numpy Array:\\n\", random_array)"
   ]
  },
  {
   "cell_type": "code",
   "execution_count": 17,
   "id": "00431073",
   "metadata": {},
   "outputs": [
    {
     "name": "stdout",
     "output_type": "stream",
     "text": [
      "Random Integer Numpy Array:\n",
      " [[24 62 99 44 56]\n",
      " [82 15 47 27 87]\n",
      " [61 48 55 78 50]\n",
      " [32 52 59 20 95]]\n"
     ]
    }
   ],
   "source": [
    "# random integer values array with in a specific range \n",
    "random_int_array = np.random.randint(10,100, (4,5))\n",
    "print(\"Random Integer Numpy Array:\\n\", random_int_array)"
   ]
  },
  {
   "cell_type": "code",
   "execution_count": 18,
   "id": "2a1ff806",
   "metadata": {},
   "outputs": [
    {
     "name": "stdout",
     "output_type": "stream",
     "text": [
      "Evenly Spaced Numpy Array:\n",
      " [10.  12.5 15.  17.5 20. ]\n"
     ]
    }
   ],
   "source": [
    "# array of evenly spaced values ---> specifying the number of values required\n",
    "evenly_spaced_array = np.linspace(10, 20, 5)\n",
    "print(\"Evenly Spaced Numpy Array:\\n\", evenly_spaced_array)"
   ]
  },
  {
   "cell_type": "code",
   "execution_count": 19,
   "id": "01b858ca",
   "metadata": {},
   "outputs": [
    {
     "data": {
      "text/plain": [
       "array([10, 15])"
      ]
     },
     "execution_count": 19,
     "metadata": {},
     "output_type": "execute_result"
    }
   ],
   "source": [
    "# array of evenly spaced values ---> specifying the step\n",
    "ed = np.arange(10, 20, 5)\n",
    "ed"
   ]
  },
  {
   "cell_type": "code",
   "execution_count": 20,
   "id": "980b7b18",
   "metadata": {},
   "outputs": [
    {
     "name": "stdout",
     "output_type": "stream",
     "text": [
      "Numpy Array from List: [1 2 3 4 5]\n"
     ]
    },
    {
     "data": {
      "text/plain": [
       "numpy.ndarray"
      ]
     },
     "execution_count": 20,
     "metadata": {},
     "output_type": "execute_result"
    }
   ],
   "source": [
    "# convert a list t oa numpy array\n",
    "list2 = [1, 2, 3, 4, 5]\n",
    "np_array_from_list = np.asarray(list2)\n",
    "print(\"Numpy Array from List:\", np_array_from_list)\n",
    "type(np_array_from_list)"
   ]
  },
  {
   "cell_type": "markdown",
   "id": "6e46ccd5",
   "metadata": {},
   "source": [
    "Analyzing a numpy array"
   ]
  },
  {
   "cell_type": "code",
   "execution_count": 21,
   "id": "c59ae88b",
   "metadata": {},
   "outputs": [
    {
     "data": {
      "text/plain": [
       "array([[73, 92, 36, 93, 66],\n",
       "       [36, 82, 49, 33, 38],\n",
       "       [99, 45, 85, 79, 93],\n",
       "       [51, 85, 76, 74, 75],\n",
       "       [35, 39, 34, 95, 45]], dtype=int32)"
      ]
     },
     "execution_count": 21,
     "metadata": {},
     "output_type": "execute_result"
    }
   ],
   "source": [
    "c = np.random.randint(30, 100, (5, 5))\n",
    "c"
   ]
  },
  {
   "cell_type": "code",
   "execution_count": 22,
   "id": "f6c50ba1",
   "metadata": {},
   "outputs": [
    {
     "name": "stdout",
     "output_type": "stream",
     "text": [
      "Array Shape: (5, 5)\n"
     ]
    }
   ],
   "source": [
    "# array shape\n",
    "print(\"Array Shape:\", c.shape)"
   ]
  },
  {
   "cell_type": "code",
   "execution_count": 23,
   "id": "beb81a7f",
   "metadata": {},
   "outputs": [
    {
     "name": "stdout",
     "output_type": "stream",
     "text": [
      "Array Dimensions: 2\n"
     ]
    }
   ],
   "source": [
    "# number of dimensions\n",
    "print(\"Array Dimensions:\", c.ndim)"
   ]
  },
  {
   "cell_type": "code",
   "execution_count": 24,
   "id": "1f2ceadf",
   "metadata": {},
   "outputs": [
    {
     "name": "stdout",
     "output_type": "stream",
     "text": [
      "Number of Elements in Array: 25\n"
     ]
    }
   ],
   "source": [
    "# number of elements in the array\n",
    "print(\"Number of Elements in Array:\", c.size)"
   ]
  },
  {
   "cell_type": "code",
   "execution_count": 25,
   "id": "cf07997d",
   "metadata": {},
   "outputs": [
    {
     "name": "stdout",
     "output_type": "stream",
     "text": [
      "Data Type of Array: int32\n"
     ]
    }
   ],
   "source": [
    "# checking the data type of the array\n",
    "print(\"Data Type of Array:\", c.dtype)"
   ]
  },
  {
   "cell_type": "markdown",
   "id": "45468f20",
   "metadata": {},
   "source": [
    "Mathematical Operations in a numpy array"
   ]
  },
  {
   "cell_type": "code",
   "execution_count": 26,
   "id": "b7b7c955",
   "metadata": {},
   "outputs": [
    {
     "data": {
      "text/plain": [
       "[1, 2, 3, 4, 5, 6, 7, 8, 9, 10]"
      ]
     },
     "execution_count": 26,
     "metadata": {},
     "output_type": "execute_result"
    }
   ],
   "source": [
    "list3 = [1, 2, 3, 4, 5]\n",
    "list4 = [6, 7, 8, 9, 10]\n",
    "\n",
    "list3+list4 # concatenating or joining two lists"
   ]
  },
  {
   "cell_type": "code",
   "execution_count": 27,
   "id": "193f128b",
   "metadata": {},
   "outputs": [],
   "source": [
    "a = np.random.randint(0, 10, (3, 3))\n",
    "b = np.random.randint(10, 20, (3, 3))"
   ]
  },
  {
   "cell_type": "code",
   "execution_count": 28,
   "id": "e2af7f37",
   "metadata": {},
   "outputs": [
    {
     "name": "stdout",
     "output_type": "stream",
     "text": [
      "[[7 9 7]\n",
      " [9 6 6]\n",
      " [4 5 1]]\n",
      "[[19 11 14]\n",
      " [10 19 17]\n",
      " [17 16 14]]\n"
     ]
    }
   ],
   "source": [
    "print(a)\n",
    "print(b)"
   ]
  },
  {
   "cell_type": "code",
   "execution_count": 29,
   "id": "800c4725",
   "metadata": {},
   "outputs": [
    {
     "name": "stdout",
     "output_type": "stream",
     "text": [
      "[[26 20 21]\n",
      " [19 25 23]\n",
      " [21 21 15]]\n"
     ]
    }
   ],
   "source": [
    "print(a+b) # element-wise addition"
   ]
  },
  {
   "cell_type": "code",
   "execution_count": 30,
   "id": "5d71243c",
   "metadata": {},
   "outputs": [
    {
     "name": "stdout",
     "output_type": "stream",
     "text": [
      "[[-12  -2  -7]\n",
      " [ -1 -13 -11]\n",
      " [-13 -11 -13]]\n",
      "[[133  99  98]\n",
      " [ 90 114 102]\n",
      " [ 68  80  14]]\n",
      "[[0.36842105 0.81818182 0.5       ]\n",
      " [0.9        0.31578947 0.35294118]\n",
      " [0.23529412 0.3125     0.07142857]]\n"
     ]
    }
   ],
   "source": [
    "print(a-b) # element-wise subtraction\n",
    "print(a*b) # element-wise multiplication\n",
    "print(a/b) # element-wise division"
   ]
  },
  {
   "cell_type": "code",
   "execution_count": 31,
   "id": "551a7d96",
   "metadata": {},
   "outputs": [
    {
     "name": "stdout",
     "output_type": "stream",
     "text": [
      "[[26 20 21]\n",
      " [19 25 23]\n",
      " [21 21 15]]\n"
     ]
    }
   ],
   "source": [
    "print(np.add(a,b))# element-wise addition using numpy function"
   ]
  },
  {
   "cell_type": "code",
   "execution_count": 32,
   "id": "bf93084b",
   "metadata": {},
   "outputs": [
    {
     "name": "stdout",
     "output_type": "stream",
     "text": [
      "[[-12  -2  -7]\n",
      " [ -1 -13 -11]\n",
      " [-13 -11 -13]]\n"
     ]
    }
   ],
   "source": [
    "print(np.subtract(a,b)) # element-wise subtraction using numpy function"
   ]
  },
  {
   "cell_type": "code",
   "execution_count": 33,
   "id": "1e9f1595",
   "metadata": {},
   "outputs": [
    {
     "name": "stdout",
     "output_type": "stream",
     "text": [
      "[[133  99  98]\n",
      " [ 90 114 102]\n",
      " [ 68  80  14]]\n",
      "[[0.36842105 0.81818182 0.5       ]\n",
      " [0.9        0.31578947 0.35294118]\n",
      " [0.23529412 0.3125     0.07142857]]\n"
     ]
    }
   ],
   "source": [
    "print(np.multiply(a,b)) # element-wise multiplication using numpy function\n",
    "print(np.divide(a,b)) # element-wise division using numpy function"
   ]
  },
  {
   "cell_type": "code",
   "execution_count": 34,
   "id": "83db9550",
   "metadata": {},
   "outputs": [
    {
     "name": "stdout",
     "output_type": "stream",
     "text": [
      "[[2.64575131 3.         2.64575131]\n",
      " [3.         2.44948974 2.44948974]\n",
      " [2.         2.23606798 1.        ]]\n",
      "[[49 81 49]\n",
      " [81 36 36]\n",
      " [16 25  1]]\n"
     ]
    }
   ],
   "source": [
    "print(np.sqrt(a)) # element-wise square root\n",
    "print(np.square(a)) # element-wise square"
   ]
  },
  {
   "cell_type": "markdown",
   "id": "69e6fe00",
   "metadata": {},
   "source": [
    "Array Manipulation"
   ]
  },
  {
   "cell_type": "code",
   "execution_count": 35,
   "id": "2aa69e35",
   "metadata": {},
   "outputs": [
    {
     "name": "stdout",
     "output_type": "stream",
     "text": [
      "Array Shape: (2, 3)\n"
     ]
    }
   ],
   "source": [
    "arr = np.random.randint(0, 10, (2, 3))\n",
    "arr.shape # shape of the array\n",
    "print(\"Array Shape:\", arr.shape)"
   ]
  },
  {
   "cell_type": "code",
   "execution_count": 36,
   "id": "287554ea",
   "metadata": {},
   "outputs": [
    {
     "data": {
      "text/plain": [
       "array([[6, 9, 6],\n",
       "       [0, 0, 8]], dtype=int32)"
      ]
     },
     "execution_count": 36,
     "metadata": {},
     "output_type": "execute_result"
    }
   ],
   "source": [
    "arr"
   ]
  },
  {
   "cell_type": "code",
   "execution_count": 37,
   "id": "ed2553fc",
   "metadata": {},
   "outputs": [
    {
     "name": "stdout",
     "output_type": "stream",
     "text": [
      "[[6 0]\n",
      " [9 0]\n",
      " [6 8]]\n"
     ]
    },
    {
     "data": {
      "text/plain": [
       "(3, 2)"
      ]
     },
     "execution_count": 37,
     "metadata": {},
     "output_type": "execute_result"
    }
   ],
   "source": [
    "# create the transpose\n",
    "trans = np.transpose(arr)\n",
    "print(trans)\n",
    "trans.shape # shape of the transposed array"
   ]
  },
  {
   "cell_type": "code",
   "execution_count": 38,
   "id": "ab9b4ae3",
   "metadata": {},
   "outputs": [
    {
     "name": "stdout",
     "output_type": "stream",
     "text": [
      "Array Shape: (2, 3)\n"
     ]
    }
   ],
   "source": [
    "arr = np.random.randint(0, 10, (2, 3))\n",
    "arr.shape # shape of the array\n",
    "print(\"Array Shape:\", arr.shape)"
   ]
  },
  {
   "cell_type": "code",
   "execution_count": 39,
   "id": "1b5e2825",
   "metadata": {},
   "outputs": [
    {
     "data": {
      "text/plain": [
       "array([[5, 3, 5],\n",
       "       [8, 6, 5]], dtype=int32)"
      ]
     },
     "execution_count": 39,
     "metadata": {},
     "output_type": "execute_result"
    }
   ],
   "source": [
    "arr"
   ]
  },
  {
   "cell_type": "code",
   "execution_count": 40,
   "id": "53fff135",
   "metadata": {},
   "outputs": [
    {
     "data": {
      "text/plain": [
       "array([[5, 8],\n",
       "       [3, 6],\n",
       "       [5, 5]], dtype=int32)"
      ]
     },
     "execution_count": 40,
     "metadata": {},
     "output_type": "execute_result"
    }
   ],
   "source": [
    "trans2 = arr.T\n",
    "trans2"
   ]
  },
  {
   "cell_type": "code",
   "execution_count": 41,
   "id": "c113fcc0",
   "metadata": {},
   "outputs": [
    {
     "data": {
      "text/plain": [
       "(3, 2)"
      ]
     },
     "execution_count": 41,
     "metadata": {},
     "output_type": "execute_result"
    }
   ],
   "source": [
    "trans2.shape"
   ]
  },
  {
   "cell_type": "code",
   "execution_count": 42,
   "id": "f5918ef7",
   "metadata": {},
   "outputs": [
    {
     "name": "stdout",
     "output_type": "stream",
     "text": [
      "[[4 7 7]\n",
      " [1 2 5]]\n",
      "(2, 3)\n"
     ]
    }
   ],
   "source": [
    "# reshaping array\n",
    "a = np.random.randint(0, 10, (2, 3))\n",
    "print(a)\n",
    "print(a.shape)"
   ]
  },
  {
   "cell_type": "code",
   "execution_count": 43,
   "id": "3da5ca34",
   "metadata": {},
   "outputs": [
    {
     "name": "stdout",
     "output_type": "stream",
     "text": [
      "[[4 7]\n",
      " [7 1]\n",
      " [2 5]]\n",
      "(3, 2)\n"
     ]
    }
   ],
   "source": [
    "b = a.reshape(3,2)\n",
    "print(b)\n",
    "print(b.shape)"
   ]
  },
  {
   "cell_type": "code",
   "execution_count": 47,
   "id": "5848c079",
   "metadata": {},
   "outputs": [],
   "source": [
    "bool_arr = b > 4"
   ]
  },
  {
   "cell_type": "code",
   "execution_count": 48,
   "id": "c3ba2e25",
   "metadata": {},
   "outputs": [
    {
     "data": {
      "text/plain": [
       "array([[False,  True],\n",
       "       [ True, False],\n",
       "       [False,  True]])"
      ]
     },
     "execution_count": 48,
     "metadata": {},
     "output_type": "execute_result"
    }
   ],
   "source": [
    "bool_arr"
   ]
  },
  {
   "cell_type": "code",
   "execution_count": 49,
   "id": "16b0b09a",
   "metadata": {},
   "outputs": [
    {
     "data": {
      "text/plain": [
       "array([7, 7, 5], dtype=int32)"
      ]
     },
     "execution_count": 49,
     "metadata": {},
     "output_type": "execute_result"
    }
   ],
   "source": [
    "b[bool_arr]"
   ]
  },
  {
   "cell_type": "code",
   "execution_count": 50,
   "id": "c797025f",
   "metadata": {},
   "outputs": [
    {
     "data": {
      "text/plain": [
       "array([[1., 1.],\n",
       "       [1., 1.],\n",
       "       [1., 1.]])"
      ]
     },
     "execution_count": 50,
     "metadata": {},
     "output_type": "execute_result"
    }
   ],
   "source": [
    "b/b"
   ]
  },
  {
   "cell_type": "code",
   "execution_count": 54,
   "id": "25c47738",
   "metadata": {},
   "outputs": [],
   "source": [
    "arr1 = np.arange(0,10)"
   ]
  },
  {
   "cell_type": "code",
   "execution_count": 55,
   "id": "ad283f74",
   "metadata": {},
   "outputs": [
    {
     "data": {
      "text/plain": [
       "array([0, 1, 2, 3, 4, 5, 6, 7, 8, 9])"
      ]
     },
     "execution_count": 55,
     "metadata": {},
     "output_type": "execute_result"
    }
   ],
   "source": [
    "arr1"
   ]
  },
  {
   "cell_type": "code",
   "execution_count": 57,
   "id": "fcabdc22",
   "metadata": {},
   "outputs": [
    {
     "data": {
      "text/plain": [
       "array([0, 1, 2, 3, 4, 5, 6, 7, 8, 9])"
      ]
     },
     "execution_count": 57,
     "metadata": {},
     "output_type": "execute_result"
    }
   ],
   "source": [
    "arr1[0:10]"
   ]
  },
  {
   "cell_type": "code",
   "execution_count": 58,
   "id": "89ff335f",
   "metadata": {},
   "outputs": [
    {
     "data": {
      "text/plain": [
       "np.int64(9)"
      ]
     },
     "execution_count": 58,
     "metadata": {},
     "output_type": "execute_result"
    }
   ],
   "source": [
    "arr1.max()"
   ]
  },
  {
   "cell_type": "code",
   "execution_count": 59,
   "id": "8f9d3dfc",
   "metadata": {},
   "outputs": [
    {
     "data": {
      "text/plain": [
       "array([ 0.        ,  0.84147098,  0.90929743,  0.14112001, -0.7568025 ,\n",
       "       -0.95892427, -0.2794155 ,  0.6569866 ,  0.98935825,  0.41211849])"
      ]
     },
     "execution_count": 59,
     "metadata": {},
     "output_type": "execute_result"
    }
   ],
   "source": [
    "np.sin(arr1)  # element-wise sine function"
   ]
  },
  {
   "cell_type": "code",
   "execution_count": 62,
   "id": "07539108",
   "metadata": {},
   "outputs": [],
   "source": [
    "arr2 = np.arange(10, 20)"
   ]
  },
  {
   "cell_type": "code",
   "execution_count": 63,
   "id": "10abdf4d",
   "metadata": {},
   "outputs": [
    {
     "data": {
      "text/plain": [
       "array([10.00140819, 11.00140819, 12.00140819, 13.00140819, 14.00140819,\n",
       "       15.00140819, 16.00140819, 17.00140819, 18.00140819, 19.00140819])"
      ]
     },
     "execution_count": 63,
     "metadata": {},
     "output_type": "execute_result"
    }
   ],
   "source": [
    "np.logaddexp2(arr1, arr2)  # element-wise log addition"
   ]
  },
  {
   "cell_type": "code",
   "execution_count": null,
   "id": "9b1e9691",
   "metadata": {},
   "outputs": [
    {
     "data": {
      "text/plain": [
       "array([                  0,                   1,                4096,\n",
       "                   1594323,           268435456,         30517578125,\n",
       "             2821109907456,     232630513987207,   18014398509481984,\n",
       "       1350851717672992089])"
      ]
     },
     "execution_count": 65,
     "metadata": {},
     "output_type": "execute_result"
    }
   ],
   "source": [
    "np.power(arr1, arr2)  # element-wise power "
   ]
  },
  {
   "cell_type": "code",
   "execution_count": null,
   "id": "e9c2c28e",
   "metadata": {},
   "outputs": [],
   "source": []
  }
 ],
 "metadata": {
  "kernelspec": {
   "display_name": "Python 3",
   "language": "python",
   "name": "python3"
  },
  "language_info": {
   "codemirror_mode": {
    "name": "ipython",
    "version": 3
   },
   "file_extension": ".py",
   "mimetype": "text/x-python",
   "name": "python",
   "nbconvert_exporter": "python",
   "pygments_lexer": "ipython3",
   "version": "3.12.3"
  }
 },
 "nbformat": 4,
 "nbformat_minor": 5
}
